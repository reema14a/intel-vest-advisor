{
 "cells": [
  {
   "cell_type": "markdown",
   "id": "fefcc464",
   "metadata": {},
   "source": [
    "### Step 0: Import Libraries"
   ]
  },
  {
   "cell_type": "code",
   "execution_count": 2,
   "id": "9ae35a91",
   "metadata": {},
   "outputs": [],
   "source": [
    "import pandas as pd\n",
    "import numpy as np"
   ]
  },
  {
   "cell_type": "markdown",
   "id": "753d9099",
   "metadata": {},
   "source": [
    "### Step 1: Load & Examine Data"
   ]
  },
  {
   "cell_type": "markdown",
   "id": "62029448",
   "metadata": {},
   "source": [
    "Dataset Link: https://finrafoundation.org/sites/finrafoundation/files/2021-SxS-Data-and-Data-Info.zip"
   ]
  },
  {
   "cell_type": "code",
   "execution_count": 3,
   "id": "85185e9f",
   "metadata": {},
   "outputs": [
    {
     "name": "stdout",
     "output_type": "stream",
     "text": [
      "<class 'pandas.core.frame.DataFrame'>\n",
      "RangeIndex: 27118 entries, 0 to 27117\n",
      "Columns: 126 entries, NFCSID to wgt_s3\n",
      "dtypes: float64(3), int64(83), object(40)\n",
      "memory usage: 26.1+ MB\n"
     ]
    }
   ],
   "source": [
    "data = pd.read_csv('../data/NFCS 2021 State Data 220627.csv')\n",
    "data.info()"
   ]
  },
  {
   "cell_type": "code",
   "execution_count": 4,
   "id": "c76f99ca",
   "metadata": {},
   "outputs": [
    {
     "data": {
      "text/html": [
       "<div>\n",
       "<style scoped>\n",
       "    .dataframe tbody tr th:only-of-type {\n",
       "        vertical-align: middle;\n",
       "    }\n",
       "\n",
       "    .dataframe tbody tr th {\n",
       "        vertical-align: top;\n",
       "    }\n",
       "\n",
       "    .dataframe thead th {\n",
       "        text-align: right;\n",
       "    }\n",
       "</style>\n",
       "<table border=\"1\" class=\"dataframe\">\n",
       "  <thead>\n",
       "    <tr style=\"text-align: right;\">\n",
       "      <th></th>\n",
       "      <th>NFCSID</th>\n",
       "      <th>STATEQ</th>\n",
       "      <th>CENSUSDIV</th>\n",
       "      <th>CENSUSREG</th>\n",
       "      <th>A50A</th>\n",
       "      <th>A3Ar_w</th>\n",
       "      <th>A50B</th>\n",
       "      <th>A4A_new_w</th>\n",
       "      <th>A5_2015</th>\n",
       "      <th>A6</th>\n",
       "      <th>...</th>\n",
       "      <th>M6</th>\n",
       "      <th>M7</th>\n",
       "      <th>M8</th>\n",
       "      <th>M31</th>\n",
       "      <th>M50</th>\n",
       "      <th>M9</th>\n",
       "      <th>M10</th>\n",
       "      <th>wgt_n2</th>\n",
       "      <th>wgt_d2</th>\n",
       "      <th>wgt_s3</th>\n",
       "    </tr>\n",
       "  </thead>\n",
       "  <tbody>\n",
       "    <tr>\n",
       "      <th>0</th>\n",
       "      <td>2021010001</td>\n",
       "      <td>41</td>\n",
       "      <td>5</td>\n",
       "      <td>3</td>\n",
       "      <td>2</td>\n",
       "      <td>2</td>\n",
       "      <td>8</td>\n",
       "      <td>1</td>\n",
       "      <td>6</td>\n",
       "      <td>1</td>\n",
       "      <td>...</td>\n",
       "      <td>1</td>\n",
       "      <td>3</td>\n",
       "      <td>2</td>\n",
       "      <td>2</td>\n",
       "      <td>2</td>\n",
       "      <td>1</td>\n",
       "      <td>2</td>\n",
       "      <td>0.834316</td>\n",
       "      <td>0.539386</td>\n",
       "      <td>0.725252</td>\n",
       "    </tr>\n",
       "    <tr>\n",
       "      <th>1</th>\n",
       "      <td>2021010002</td>\n",
       "      <td>36</td>\n",
       "      <td>3</td>\n",
       "      <td>2</td>\n",
       "      <td>2</td>\n",
       "      <td>2</td>\n",
       "      <td>8</td>\n",
       "      <td>1</td>\n",
       "      <td>6</td>\n",
       "      <td>4</td>\n",
       "      <td>...</td>\n",
       "      <td>98</td>\n",
       "      <td>98</td>\n",
       "      <td>98</td>\n",
       "      <td>98</td>\n",
       "      <td>98</td>\n",
       "      <td>1</td>\n",
       "      <td>98</td>\n",
       "      <td>1.083618</td>\n",
       "      <td>1.075806</td>\n",
       "      <td>0.930410</td>\n",
       "    </tr>\n",
       "    <tr>\n",
       "      <th>2</th>\n",
       "      <td>2021010003</td>\n",
       "      <td>3</td>\n",
       "      <td>8</td>\n",
       "      <td>4</td>\n",
       "      <td>1</td>\n",
       "      <td>6</td>\n",
       "      <td>6</td>\n",
       "      <td>1</td>\n",
       "      <td>6</td>\n",
       "      <td>4</td>\n",
       "      <td>...</td>\n",
       "      <td>1</td>\n",
       "      <td>3</td>\n",
       "      <td>98</td>\n",
       "      <td>3</td>\n",
       "      <td>1</td>\n",
       "      <td>1</td>\n",
       "      <td>2</td>\n",
       "      <td>0.396368</td>\n",
       "      <td>2.123406</td>\n",
       "      <td>0.944175</td>\n",
       "    </tr>\n",
       "    <tr>\n",
       "      <th>3</th>\n",
       "      <td>2021010004</td>\n",
       "      <td>3</td>\n",
       "      <td>8</td>\n",
       "      <td>4</td>\n",
       "      <td>2</td>\n",
       "      <td>4</td>\n",
       "      <td>10</td>\n",
       "      <td>2</td>\n",
       "      <td>2</td>\n",
       "      <td>1</td>\n",
       "      <td>...</td>\n",
       "      <td>1</td>\n",
       "      <td>98</td>\n",
       "      <td>98</td>\n",
       "      <td>1</td>\n",
       "      <td>1</td>\n",
       "      <td>1</td>\n",
       "      <td>2</td>\n",
       "      <td>0.374328</td>\n",
       "      <td>2.372112</td>\n",
       "      <td>1.011643</td>\n",
       "    </tr>\n",
       "    <tr>\n",
       "      <th>4</th>\n",
       "      <td>2021010005</td>\n",
       "      <td>36</td>\n",
       "      <td>3</td>\n",
       "      <td>2</td>\n",
       "      <td>2</td>\n",
       "      <td>4</td>\n",
       "      <td>10</td>\n",
       "      <td>1</td>\n",
       "      <td>3</td>\n",
       "      <td>4</td>\n",
       "      <td>...</td>\n",
       "      <td>1</td>\n",
       "      <td>98</td>\n",
       "      <td>98</td>\n",
       "      <td>98</td>\n",
       "      <td>98</td>\n",
       "      <td>98</td>\n",
       "      <td>98</td>\n",
       "      <td>1.362034</td>\n",
       "      <td>1.159651</td>\n",
       "      <td>0.907194</td>\n",
       "    </tr>\n",
       "  </tbody>\n",
       "</table>\n",
       "<p>5 rows × 126 columns</p>\n",
       "</div>"
      ],
      "text/plain": [
       "       NFCSID  STATEQ  CENSUSDIV  CENSUSREG  A50A  A3Ar_w  A50B  A4A_new_w  \\\n",
       "0  2021010001      41          5          3     2       2     8          1   \n",
       "1  2021010002      36          3          2     2       2     8          1   \n",
       "2  2021010003       3          8          4     1       6     6          1   \n",
       "3  2021010004       3          8          4     2       4    10          2   \n",
       "4  2021010005      36          3          2     2       4    10          1   \n",
       "\n",
       "   A5_2015  A6  ...  M6  M7  M8  M31  M50  M9  M10    wgt_n2    wgt_d2  \\\n",
       "0        6   1  ...   1   3   2    2    2   1    2  0.834316  0.539386   \n",
       "1        6   4  ...  98  98  98   98   98   1   98  1.083618  1.075806   \n",
       "2        6   4  ...   1   3  98    3    1   1    2  0.396368  2.123406   \n",
       "3        2   1  ...   1  98  98    1    1   1    2  0.374328  2.372112   \n",
       "4        3   4  ...   1  98  98   98   98  98   98  1.362034  1.159651   \n",
       "\n",
       "     wgt_s3  \n",
       "0  0.725252  \n",
       "1  0.930410  \n",
       "2  0.944175  \n",
       "3  1.011643  \n",
       "4  0.907194  \n",
       "\n",
       "[5 rows x 126 columns]"
      ]
     },
     "execution_count": 4,
     "metadata": {},
     "output_type": "execute_result"
    }
   ],
   "source": [
    "data.head()"
   ]
  },
  {
   "cell_type": "markdown",
   "id": "be81339c",
   "metadata": {},
   "source": [
    "**Retaining only below columns**\n",
    "\n",
    "|Column Name| Feature/Target | Values|\n",
    "|:--------:|:--------:|:--------|\n",
    "|A3Ar_w| Age group | <ul><li>1 18-24</li><li>2 25-34</li><li>3 35-44</li><li>4 45-54</li><li>5 55-64</li><li>6 65+</li></ul>|\n",
    "|A5_2015| Education Level| <ul><li>1 Did not complete high school</li><li>2 High school graduate - regular high school diploma</li><li>3 High school graduate - GED or alternative credential</li><li>4 Some college, no degree</li><li>5 Associate's degree</li><li>6 Bachelor's degree</li><li>7 Post graduate degree</li><li>99 Prefer not to say</li></ul>|\n",
    "|A8_2021| Annual Income| <ul><li>1 < $15,000</li><li>2 $15,000 - $25,000</li><li>3 $25,000 - $35,000</li><li>4 $35,000 - $50,000</li><li>5 $50,000 - $75,000</li><li>6 $75,000 - $100,000</li><li>7 $100,000 - $150,000</li><li>8 $150,000 - $200,000</li><li>9 $200,000 - $300,000</li><li>10 > $300,000</li><li>98 Don't know</li><li>99 Prefer not to say</li></ul>|\n",
    "|J5| Emergency Savings| <ul><li>1 Yes</li><li>2 No</li><li>98 Don't know</li><li>99 Prefer not to say</li></ul>|\n",
    "|J8| Retirement Planning| <ul><li>1 Yes</li><li>2 No</li><li>98 Don't know</li><li>99 Prefer not to say</li></ul>|\n",
    "|M7| Knoowledge: Interest Rate vs Inflation| <ul><li>1 More than today</li><li>2 Exactly the same</li><li>3 Less than today (Correct)</li><li>98 Don't know</li><li>99 Prefer not to say</li></ul>|\n",
    "|M8| Knowledge: Bonds vs Interest Rates|<ul><li>1 They will rise</li><li>2 They will fall (Correct)</li><li>3 They will stay the same </li><li>4 There is no relationship between bond prices and the interest</li><li>98 Don't know</li><li>99 Prefer not to say</li></ul>|\n",
    "|M10| Knowledge: Stocks vs Mutual Funds| <ul><li>1 True</li><li>2 False</li><li>98 Don't know</li><li>99 Prefer not to say</li></ul>|\n",
    "|J2| Risk Tolerance| <ul><li>1 Not At All Willing</li><li>2 </li><li>3 </li><li>4 </li><li>5 </li><li>6 </li><li>7 </li><li>8 </li><li>9 </li><li>10 Very Willing</li><li>98 Don't know</li><li>99 Prefer not to say</li></ul>|\n"
   ]
  },
  {
   "cell_type": "markdown",
   "id": "8c402d6e",
   "metadata": {},
   "source": [
    "### Step 2: Retain important features only"
   ]
  },
  {
   "cell_type": "code",
   "execution_count": 5,
   "id": "e299fa22",
   "metadata": {},
   "outputs": [
    {
     "name": "stdout",
     "output_type": "stream",
     "text": [
      "<class 'pandas.core.frame.DataFrame'>\n",
      "RangeIndex: 27118 entries, 0 to 27117\n",
      "Data columns (total 9 columns):\n",
      " #   Column   Non-Null Count  Dtype \n",
      "---  ------   --------------  ----- \n",
      " 0   A3Ar_w   27118 non-null  int64 \n",
      " 1   A5_2015  27118 non-null  int64 \n",
      " 2   A8_2021  27118 non-null  int64 \n",
      " 3   J5       27118 non-null  int64 \n",
      " 4   J8       27118 non-null  object\n",
      " 5   M7       27118 non-null  int64 \n",
      " 6   M8       27118 non-null  int64 \n",
      " 7   M10      27118 non-null  int64 \n",
      " 8   J2       27118 non-null  int64 \n",
      "dtypes: int64(8), object(1)\n",
      "memory usage: 1.9+ MB\n"
     ]
    }
   ],
   "source": [
    "\n",
    "required_columns = ['A3Ar_w', 'A5_2015', 'A8_2021', 'J5', 'J8', 'M7', 'M8', 'M10', 'J2']\n",
    "data = data[required_columns]\n",
    "data = data.dropna(subset=required_columns)\n",
    "data.info()"
   ]
  },
  {
   "cell_type": "code",
   "execution_count": 6,
   "id": "475690f4",
   "metadata": {},
   "outputs": [
    {
     "data": {
      "text/html": [
       "<div>\n",
       "<style scoped>\n",
       "    .dataframe tbody tr th:only-of-type {\n",
       "        vertical-align: middle;\n",
       "    }\n",
       "\n",
       "    .dataframe tbody tr th {\n",
       "        vertical-align: top;\n",
       "    }\n",
       "\n",
       "    .dataframe thead th {\n",
       "        text-align: right;\n",
       "    }\n",
       "</style>\n",
       "<table border=\"1\" class=\"dataframe\">\n",
       "  <thead>\n",
       "    <tr style=\"text-align: right;\">\n",
       "      <th></th>\n",
       "      <th>A3Ar_w</th>\n",
       "      <th>A5_2015</th>\n",
       "      <th>A8_2021</th>\n",
       "      <th>J5</th>\n",
       "      <th>J8</th>\n",
       "      <th>M7</th>\n",
       "      <th>M8</th>\n",
       "      <th>M10</th>\n",
       "      <th>J2</th>\n",
       "    </tr>\n",
       "  </thead>\n",
       "  <tbody>\n",
       "    <tr>\n",
       "      <th>0</th>\n",
       "      <td>2</td>\n",
       "      <td>6</td>\n",
       "      <td>9</td>\n",
       "      <td>1</td>\n",
       "      <td>1</td>\n",
       "      <td>3</td>\n",
       "      <td>2</td>\n",
       "      <td>2</td>\n",
       "      <td>9</td>\n",
       "    </tr>\n",
       "    <tr>\n",
       "      <th>1</th>\n",
       "      <td>2</td>\n",
       "      <td>6</td>\n",
       "      <td>3</td>\n",
       "      <td>2</td>\n",
       "      <td>2</td>\n",
       "      <td>98</td>\n",
       "      <td>98</td>\n",
       "      <td>98</td>\n",
       "      <td>1</td>\n",
       "    </tr>\n",
       "    <tr>\n",
       "      <th>2</th>\n",
       "      <td>6</td>\n",
       "      <td>6</td>\n",
       "      <td>3</td>\n",
       "      <td>1</td>\n",
       "      <td></td>\n",
       "      <td>3</td>\n",
       "      <td>98</td>\n",
       "      <td>2</td>\n",
       "      <td>7</td>\n",
       "    </tr>\n",
       "    <tr>\n",
       "      <th>3</th>\n",
       "      <td>4</td>\n",
       "      <td>2</td>\n",
       "      <td>7</td>\n",
       "      <td>1</td>\n",
       "      <td>1</td>\n",
       "      <td>98</td>\n",
       "      <td>98</td>\n",
       "      <td>2</td>\n",
       "      <td>7</td>\n",
       "    </tr>\n",
       "    <tr>\n",
       "      <th>4</th>\n",
       "      <td>4</td>\n",
       "      <td>3</td>\n",
       "      <td>1</td>\n",
       "      <td>2</td>\n",
       "      <td>2</td>\n",
       "      <td>98</td>\n",
       "      <td>98</td>\n",
       "      <td>98</td>\n",
       "      <td>5</td>\n",
       "    </tr>\n",
       "  </tbody>\n",
       "</table>\n",
       "</div>"
      ],
      "text/plain": [
       "   A3Ar_w  A5_2015  A8_2021  J5 J8  M7  M8  M10  J2\n",
       "0       2        6        9   1  1   3   2    2   9\n",
       "1       2        6        3   2  2  98  98   98   1\n",
       "2       6        6        3   1      3  98    2   7\n",
       "3       4        2        7   1  1  98  98    2   7\n",
       "4       4        3        1   2  2  98  98   98   5"
      ]
     },
     "execution_count": 6,
     "metadata": {},
     "output_type": "execute_result"
    }
   ],
   "source": [
    "data.head()"
   ]
  },
  {
   "cell_type": "markdown",
   "id": "eed4a278",
   "metadata": {},
   "source": [
    "### Step 3: Calculate financial literacy score based on M7, M8 and M10"
   ]
  },
  {
   "cell_type": "code",
   "execution_count": 7,
   "id": "02d1bbba",
   "metadata": {},
   "outputs": [],
   "source": [
    "\n",
    "# Ensure columns are numeric\n",
    "data[['M7', 'M8', 'M10']] = data[['M7', 'M8', 'M10']].apply(pd.to_numeric, errors='coerce')\n",
    "\n",
    "# Define correct answers\n",
    "correct_answers = {\n",
    "    'M7': 3,\n",
    "    'M8': 2,\n",
    "    'M10': 2\n",
    "}\n",
    "\n",
    "# Function to assign 1 for correct answer, 0 otherwise (including 98/99/missing)\n",
    "def is_correct(value, correct_option):\n",
    "    return 1 if value == correct_option else 0\n",
    "\n",
    "# Apply scoring\n",
    "data['M7_correct'] = data['M7'].apply(lambda x: is_correct(x, correct_answers['M7']))\n",
    "data['M8_correct'] = data['M8'].apply(lambda x: is_correct(x, correct_answers['M8']))\n",
    "data['M10_correct'] = data['M10'].apply(lambda x: is_correct(x, correct_answers['M10']))\n",
    "\n",
    "# Compute financial literacy score\n",
    "data['financial_literacy_score'] = data['M7_correct'] + data['M8_correct'] + data['M10_correct']"
   ]
  },
  {
   "cell_type": "code",
   "execution_count": 8,
   "id": "eb4ef199",
   "metadata": {},
   "outputs": [
    {
     "name": "stdout",
     "output_type": "stream",
     "text": [
      "<class 'pandas.core.frame.DataFrame'>\n",
      "RangeIndex: 27118 entries, 0 to 27117\n",
      "Data columns (total 13 columns):\n",
      " #   Column                    Non-Null Count  Dtype \n",
      "---  ------                    --------------  ----- \n",
      " 0   A3Ar_w                    27118 non-null  int64 \n",
      " 1   A5_2015                   27118 non-null  int64 \n",
      " 2   A8_2021                   27118 non-null  int64 \n",
      " 3   J5                        27118 non-null  int64 \n",
      " 4   J8                        27118 non-null  object\n",
      " 5   M7                        27118 non-null  int64 \n",
      " 6   M8                        27118 non-null  int64 \n",
      " 7   M10                       27118 non-null  int64 \n",
      " 8   J2                        27118 non-null  int64 \n",
      " 9   M7_correct                27118 non-null  int64 \n",
      " 10  M8_correct                27118 non-null  int64 \n",
      " 11  M10_correct               27118 non-null  int64 \n",
      " 12  financial_literacy_score  27118 non-null  int64 \n",
      "dtypes: int64(12), object(1)\n",
      "memory usage: 2.7+ MB\n"
     ]
    }
   ],
   "source": [
    "data.info()"
   ]
  },
  {
   "cell_type": "markdown",
   "id": "dc110203",
   "metadata": {},
   "source": [
    "### Step 4: Rename columns"
   ]
  },
  {
   "cell_type": "code",
   "execution_count": 9,
   "id": "d79285de",
   "metadata": {},
   "outputs": [],
   "source": [
    "\n",
    "data = data.rename(columns={\n",
    "    'A3Ar_w': 'age_group',\n",
    "    'A5_2015': 'education_level',\n",
    "    'A8_2021': 'income_bracket',\n",
    "    'J5': 'emergency_savings',\n",
    "    'J8': 'retirement_planning',\n",
    "    'J2': 'risk_tolerance'\n",
    "})[[\n",
    "    'age_group', 'education_level', 'income_bracket',\n",
    "    'emergency_savings', 'retirement_planning',\n",
    "    'financial_literacy_score', 'risk_tolerance'\n",
    "]]"
   ]
  },
  {
   "cell_type": "code",
   "execution_count": 10,
   "id": "46225a38",
   "metadata": {},
   "outputs": [
    {
     "name": "stdout",
     "output_type": "stream",
     "text": [
      "<class 'pandas.core.frame.DataFrame'>\n",
      "RangeIndex: 27118 entries, 0 to 27117\n",
      "Data columns (total 7 columns):\n",
      " #   Column                    Non-Null Count  Dtype \n",
      "---  ------                    --------------  ----- \n",
      " 0   age_group                 27118 non-null  int64 \n",
      " 1   education_level           27118 non-null  int64 \n",
      " 2   income_bracket            27118 non-null  int64 \n",
      " 3   emergency_savings         27118 non-null  int64 \n",
      " 4   retirement_planning       27118 non-null  object\n",
      " 5   financial_literacy_score  27118 non-null  int64 \n",
      " 6   risk_tolerance            27118 non-null  int64 \n",
      "dtypes: int64(6), object(1)\n",
      "memory usage: 1.4+ MB\n"
     ]
    }
   ],
   "source": [
    "data.info()"
   ]
  },
  {
   "cell_type": "markdown",
   "id": "ef179058",
   "metadata": {},
   "source": [
    "### Step 5: Handle missing values"
   ]
  },
  {
   "cell_type": "code",
   "execution_count": 11,
   "id": "fde772a3",
   "metadata": {},
   "outputs": [
    {
     "data": {
      "text/plain": [
       "age_group                   0\n",
       "education_level             0\n",
       "income_bracket              0\n",
       "emergency_savings           0\n",
       "retirement_planning         0\n",
       "financial_literacy_score    0\n",
       "risk_tolerance              0\n",
       "dtype: int64"
      ]
     },
     "execution_count": 11,
     "metadata": {},
     "output_type": "execute_result"
    }
   ],
   "source": [
    "data.isnull().sum()"
   ]
  },
  {
   "cell_type": "code",
   "execution_count": 12,
   "id": "93af4274",
   "metadata": {},
   "outputs": [
    {
     "name": "stdout",
     "output_type": "stream",
     "text": [
      "age_group\n",
      "6    5501\n",
      "5    4731\n",
      "2    4696\n",
      "4    4617\n",
      "3    4564\n",
      "1    3009\n",
      "Name: count, dtype: int64\n",
      "Total: 27118\n",
      "--------\n",
      "education_level\n",
      "4    7065\n",
      "6    6682\n",
      "2    4825\n",
      "7    2969\n",
      "5    2943\n",
      "3    1897\n",
      "1     737\n",
      "Name: count, dtype: int64\n",
      "Total: 27118\n",
      "--------\n",
      "income_bracket\n",
      "5     5007\n",
      "4     3847\n",
      "6     3570\n",
      "7     3470\n",
      "1     3327\n",
      "2     2942\n",
      "3     2918\n",
      "8     1212\n",
      "9      560\n",
      "10     265\n",
      "Name: count, dtype: int64\n",
      "Total: 27118\n",
      "--------\n",
      "emergency_savings\n",
      "1     14493\n",
      "2     11436\n",
      "98      844\n",
      "99      345\n",
      "Name: count, dtype: int64\n",
      "Total: 27118\n",
      "--------\n",
      "retirement_planning\n",
      "2     11491\n",
      "1      8418\n",
      "       6058\n",
      "98      916\n",
      "99      235\n",
      "Name: count, dtype: int64\n",
      "Total: 27118\n",
      "--------\n",
      "financial_literacy_score\n",
      "0    8381\n",
      "1    7860\n",
      "2    6936\n",
      "3    3941\n",
      "Name: count, dtype: int64\n",
      "Total: 27118\n",
      "--------\n",
      "risk_tolerance\n",
      "5     3865\n",
      "1     3809\n",
      "7     3354\n",
      "6     3110\n",
      "3     2641\n",
      "4     2432\n",
      "8     2269\n",
      "2     2021\n",
      "10    2000\n",
      "9      957\n",
      "98     538\n",
      "99     122\n",
      "Name: count, dtype: int64\n",
      "Total: 27118\n",
      "--------\n"
     ]
    }
   ],
   "source": [
    "for col in data.columns:\n",
    "    print(data[col].value_counts())\n",
    "    print(\"Total:\", data[col].count())\n",
    "    print(\"--------\")"
   ]
  },
  {
   "cell_type": "code",
   "execution_count": 13,
   "id": "07408969",
   "metadata": {},
   "outputs": [
    {
     "name": "stdout",
     "output_type": "stream",
     "text": [
      "retirement_planning has 6058 blank spaces\n"
     ]
    }
   ],
   "source": [
    "# Identify blank spaces and convert to NaN\n",
    "for col in data.columns:\n",
    "    if data[col].isnull().sum() > 0:\n",
    "        print(f\"{col} has {data[col].isnull().sum()} null values\")\n",
    "    if (data[col] == '').any():\n",
    "        print(f\"{col} has {(data[col] == '').sum()} empty strings\")\n",
    "        data[col].replace('', np.nan)\n",
    "    if (data[col].astype(str).str.isspace()).any():\n",
    "        print(f\"{col} has {data[col].astype(str).str.isspace().sum()} blank spaces\")\n",
    "        data[col] = data[col].apply(lambda x: x.strip()).replace('', -1) # -1 to indicate missing value\n",
    "\n"
   ]
  },
  {
   "cell_type": "code",
   "execution_count": 14,
   "id": "f3115da8",
   "metadata": {},
   "outputs": [],
   "source": [
    "data['retirement_planning'] = data['retirement_planning'].astype(int)"
   ]
  },
  {
   "cell_type": "code",
   "execution_count": 15,
   "id": "553c8d4e",
   "metadata": {},
   "outputs": [],
   "source": [
    "# Convert all 98 and 99 values to -1 indicating missing value\n",
    "data = data.replace(98, -1)\n",
    "data = data.replace(99, -1)"
   ]
  },
  {
   "cell_type": "code",
   "execution_count": 16,
   "id": "e4e6e967",
   "metadata": {},
   "outputs": [
    {
     "name": "stdout",
     "output_type": "stream",
     "text": [
      "age_group\n",
      "6    20.285419\n",
      "5    17.445977\n",
      "2    17.316911\n",
      "4    17.025592\n",
      "3    16.830150\n",
      "1    11.095951\n",
      "Name: proportion, dtype: float64\n",
      "--------\n",
      "education_level\n",
      "4    26.052806\n",
      "6    24.640460\n",
      "2    17.792610\n",
      "7    10.948448\n",
      "5    10.852570\n",
      "3     6.995354\n",
      "1     2.717752\n",
      "Name: proportion, dtype: float64\n",
      "--------\n",
      "income_bracket\n",
      "5     18.463751\n",
      "4     14.186149\n",
      "6     13.164688\n",
      "7     12.795929\n",
      "1     12.268604\n",
      "2     10.848883\n",
      "3     10.760381\n",
      "8      4.469356\n",
      "9      2.065049\n",
      "10     0.977211\n",
      "Name: proportion, dtype: float64\n",
      "--------\n",
      "emergency_savings\n",
      " 1    53.444207\n",
      " 2    42.171252\n",
      "-1     4.384542\n",
      "Name: proportion, dtype: float64\n",
      "--------\n",
      "retirement_planning\n",
      " 2    42.374069\n",
      " 1    31.042112\n",
      "-1    26.583819\n",
      "Name: proportion, dtype: float64\n",
      "--------\n",
      "financial_literacy_score\n",
      "0    30.905672\n",
      "1    28.984438\n",
      "2    25.577107\n",
      "3    14.532783\n",
      "Name: proportion, dtype: float64\n",
      "--------\n",
      "risk_tolerance\n",
      " 5     14.252526\n",
      " 1     14.046021\n",
      " 7     12.368169\n",
      " 6     11.468397\n",
      " 3      9.738919\n",
      " 4      8.968213\n",
      " 8      8.367136\n",
      " 2      7.452614\n",
      " 10     7.375175\n",
      " 9      3.529021\n",
      "-1      2.433808\n",
      "Name: proportion, dtype: float64\n",
      "--------\n"
     ]
    }
   ],
   "source": [
    "for col in data.columns:\n",
    "    print(f\"{data[col].value_counts(normalize=True) * 100}\")\n",
    "    # print(data[data[col] == -1].count() / data.count() * 100)\n",
    "    print(\"--------\")"
   ]
  },
  {
   "cell_type": "markdown",
   "id": "2e277b5f",
   "metadata": {},
   "source": [
    "Since risk_tolerance is our target variable, we will drop the 2.43% data (-1 values)"
   ]
  },
  {
   "cell_type": "code",
   "execution_count": 17,
   "id": "0be104ab",
   "metadata": {},
   "outputs": [
    {
     "data": {
      "text/plain": [
       "26458"
      ]
     },
     "execution_count": 17,
     "metadata": {},
     "output_type": "execute_result"
    }
   ],
   "source": [
    "data = data[data['risk_tolerance'] != -1]\n",
    "len(data)"
   ]
  },
  {
   "cell_type": "markdown",
   "id": "f2bed826",
   "metadata": {},
   "source": [
    "Since emergency_savings has 4.4% missing values, we will treat them as 'No'"
   ]
  },
  {
   "cell_type": "code",
   "execution_count": 18,
   "id": "c93c208c",
   "metadata": {},
   "outputs": [],
   "source": [
    "data['emergency_savings'] = data['emergency_savings'].replace(-1, 2)"
   ]
  },
  {
   "cell_type": "markdown",
   "id": "b10cf43a",
   "metadata": {},
   "source": [
    "We have ~26.6% missing data for retirement_planning, we will treat it as a third category 'Unknown' using value as 3"
   ]
  },
  {
   "cell_type": "code",
   "execution_count": 19,
   "id": "44342b2f",
   "metadata": {},
   "outputs": [],
   "source": [
    "data['retirement_planning'] = data['retirement_planning'].replace(-1, 3)"
   ]
  },
  {
   "cell_type": "markdown",
   "id": "2e3abfab",
   "metadata": {},
   "source": [
    "### Step 6: Save cleaned data"
   ]
  },
  {
   "cell_type": "code",
   "execution_count": null,
   "id": "08149aff",
   "metadata": {},
   "outputs": [],
   "source": [
    "data.to_parquet('../data/finra_cleaned.parquet', index=False)\n",
    "print(\"✅ Cleaned FINRA dataset saved to data/finra_cleaned.csv\")"
   ]
  },
  {
   "cell_type": "code",
   "execution_count": null,
   "id": "07ee043b",
   "metadata": {},
   "outputs": [],
   "source": []
  }
 ],
 "metadata": {
  "kernelspec": {
   "display_name": ".venv",
   "language": "python",
   "name": "python3"
  },
  "language_info": {
   "codemirror_mode": {
    "name": "ipython",
    "version": 3
   },
   "file_extension": ".py",
   "mimetype": "text/x-python",
   "name": "python",
   "nbconvert_exporter": "python",
   "pygments_lexer": "ipython3",
   "version": "3.12.10"
  }
 },
 "nbformat": 4,
 "nbformat_minor": 5
}
